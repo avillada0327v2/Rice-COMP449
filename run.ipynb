{
 "cells": [
  {
   "cell_type": "code",
   "execution_count": 1,
   "id": "f8f95d82",
   "metadata": {},
   "outputs": [
    {
     "name": "stderr",
     "output_type": "stream",
     "text": [
      "/Users/judyfang/anaconda3/envs/rice-project/lib/python3.10/site-packages/tqdm/auto.py:21: TqdmWarning: IProgress not found. Please update jupyter and ipywidgets. See https://ipywidgets.readthedocs.io/en/stable/user_install.html\n",
      "  from .autonotebook import tqdm as notebook_tqdm\n"
     ]
    }
   ],
   "source": [
    "from model.utils import *\n",
    "from model.gnn import *\n",
    "from model.node2vec import *\n",
    "from model.bert_embeddings import *"
   ]
  },
  {
   "cell_type": "code",
   "execution_count": 2,
   "id": "949168b8",
   "metadata": {},
   "outputs": [],
   "source": [
    "set_seeds(42)\n",
    "\n",
    "df = data_preprocess('data/full_context_PeerRead.csv')"
   ]
  },
  {
   "cell_type": "markdown",
   "id": "098423a7",
   "metadata": {},
   "source": [
    "## Node2Vec Baseline Model"
   ]
  },
  {
   "cell_type": "code",
   "execution_count": 3,
   "id": "129085be",
   "metadata": {},
   "outputs": [
    {
     "name": "stdout",
     "output_type": "stream",
     "text": [
      "Epoch: 100, Train Loss: 0.001, Val AUC: 0.642\n",
      "Epoch: 200, Train Loss: 0.001, Val AUC: 0.644\n",
      "Epoch: 300, Train Loss: 0.001, Val AUC: 0.645\n",
      "Epoch: 400, Train Loss: 0.001, Val AUC: 0.646\n",
      "Epoch: 500, Train Loss: 0.001, Val AUC: 0.647\n",
      "Epoch: 600, Train Loss: 0.001, Val AUC: 0.648\n",
      "Epoch: 700, Train Loss: 0.001, Val AUC: 0.648\n",
      "Epoch: 800, Train Loss: 0.001, Val AUC: 0.649\n",
      "Epoch: 900, Train Loss: 0.001, Val AUC: 0.649\n",
      "Epoch: 1000, Train Loss: 0.001, Val AUC: 0.650\n",
      "Model saved to model/node2vec_model.pth\n"
     ]
    }
   ],
   "source": [
    "run_node2vec(df, 'train', 'model/node2vec_model.pth')"
   ]
  },
  {
   "cell_type": "code",
   "execution_count": 4,
   "id": "14e81c3f",
   "metadata": {},
   "outputs": [
    {
     "data": {
      "text/plain": [
       "{'MRR': 0.1879389359588977,\n",
       " 'MAP@5': 0.062332882273342084,\n",
       " 'MAP@10': 0.0579965099105345,\n",
       " 'MAP@30': 0.05951454702935102,\n",
       " 'MAP@50': 0.060283805284909224,\n",
       " 'MAP@80': 0.06086205160538773,\n",
       " 'Recall@5': 0.07121131709678721,\n",
       " 'Recall@10': 0.08962863466492975,\n",
       " 'Recall@30': 0.12709981918330793,\n",
       " 'Recall@50': 0.1501050697410791,\n",
       " 'Recall@80': 0.17726019423011827}"
      ]
     },
     "execution_count": 4,
     "metadata": {},
     "output_type": "execute_result"
    }
   ],
   "source": [
    "node2vec_result = run_node2vec(df, 'evaluate', 'model/node2vec_model.pth')\n",
    "node2vec_result"
   ]
  },
  {
   "cell_type": "markdown",
   "id": "bb7d81c9",
   "metadata": {},
   "source": [
    "## BERT+GNN"
   ]
  },
  {
   "cell_type": "code",
   "execution_count": 5,
   "id": "2cb48ddb",
   "metadata": {},
   "outputs": [],
   "source": [
    "# generate_embeddings(df)"
   ]
  },
  {
   "cell_type": "code",
   "execution_count": 6,
   "id": "accef902",
   "metadata": {},
   "outputs": [
    {
     "name": "stdout",
     "output_type": "stream",
     "text": [
      "Epoch: 100, Train Loss: 0.592, Val AUC: 0.823\n",
      "Epoch: 200, Train Loss: 0.568, Val AUC: 0.832\n",
      "Epoch: 300, Train Loss: 0.550, Val AUC: 0.840\n",
      "Epoch: 400, Train Loss: 0.532, Val AUC: 0.844\n",
      "Epoch: 500, Train Loss: 0.522, Val AUC: 0.852\n",
      "Epoch: 600, Train Loss: 0.514, Val AUC: 0.858\n",
      "Epoch: 700, Train Loss: 0.503, Val AUC: 0.864\n",
      "Epoch: 800, Train Loss: 0.494, Val AUC: 0.871\n",
      "Epoch: 900, Train Loss: 0.486, Val AUC: 0.876\n",
      "Epoch: 1000, Train Loss: 0.480, Val AUC: 0.878\n",
      "Model saved to model/gnn_model.pth\n"
     ]
    }
   ],
   "source": [
    "run_gnn(df, 'train', 'model/gnn_model.pth')"
   ]
  },
  {
   "cell_type": "code",
   "execution_count": 7,
   "id": "3f5f4fdf",
   "metadata": {},
   "outputs": [
    {
     "data": {
      "text/plain": [
       "{'MRR': 0.22009715111411915,\n",
       " 'MAP@5': 0.07595233799428637,\n",
       " 'MAP@10': 0.07432527843493425,\n",
       " 'MAP@30': 0.08180236039674985,\n",
       " 'MAP@50': 0.08461545805564777,\n",
       " 'MAP@80': 0.08648521326416156,\n",
       " 'Recall@5': 0.10330543974044595,\n",
       " 'Recall@10': 0.15171966445085933,\n",
       " 'Recall@30': 0.2461263191854636,\n",
       " 'Recall@50': 0.29700818001033663,\n",
       " 'Recall@80': 0.3493000952417341}"
      ]
     },
     "execution_count": 7,
     "metadata": {},
     "output_type": "execute_result"
    }
   ],
   "source": [
    "gnn_result = run_gnn(df, 'evaluate', 'model/gnn_model.pth')\n",
    "gnn_result"
   ]
  },
  {
   "cell_type": "markdown",
   "id": "133f4065",
   "metadata": {},
   "source": [
    "## Model Comparion"
   ]
  },
  {
   "cell_type": "code",
   "execution_count": 8,
   "id": "03668657",
   "metadata": {},
   "outputs": [
    {
     "name": "stdout",
     "output_type": "stream",
     "text": [
      "               MRR     MAP@5    MAP@10    MAP@30    MAP@50    MAP@80  \\\n",
      "Model                                                                  \n",
      "node2vec  0.187939  0.062333  0.057997  0.059515  0.060284  0.060862   \n",
      "BERT+GNN  0.220097  0.075952  0.074325  0.081802  0.084615  0.086485   \n",
      "\n",
      "          Recall@5  Recall@10  Recall@30  Recall@50  Recall@80  \n",
      "Model                                                           \n",
      "node2vec  0.071211   0.089629   0.127100   0.150105    0.17726  \n",
      "BERT+GNN  0.103305   0.151720   0.246126   0.297008    0.34930  \n"
     ]
    }
   ],
   "source": [
    "models = {\n",
    "    'node2vec': node2vec_result,\n",
    "    'BERT+GNN': gnn_result,\n",
    "}\n",
    "\n",
    "# Generate the evaluation table\n",
    "evaluation_table = metric_evaluation_table(models)\n",
    "print(evaluation_table)\n"
   ]
  }
 ],
 "metadata": {
  "kernelspec": {
   "display_name": "rice-project",
   "language": "python",
   "name": "rice-project"
  },
  "language_info": {
   "codemirror_mode": {
    "name": "ipython",
    "version": 3
   },
   "file_extension": ".py",
   "mimetype": "text/x-python",
   "name": "python",
   "nbconvert_exporter": "python",
   "pygments_lexer": "ipython3",
   "version": "3.10.13"
  },
  "toc": {
   "base_numbering": 1,
   "nav_menu": {},
   "number_sections": true,
   "sideBar": true,
   "skip_h1_title": false,
   "title_cell": "Table of Contents",
   "title_sidebar": "Contents",
   "toc_cell": false,
   "toc_position": {},
   "toc_section_display": true,
   "toc_window_display": false
  }
 },
 "nbformat": 4,
 "nbformat_minor": 5
}
